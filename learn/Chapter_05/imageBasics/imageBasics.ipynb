{
 "cells": [
  {
   "attachments": {},
   "cell_type": "markdown",
   "metadata": {},
   "source": [
    "## This program demonstrates how to Basic Functions of OpenCV in Pythpn"
   ]
  },
  {
   "cell_type": "code",
   "execution_count": 1,
   "metadata": {},
   "outputs": [],
   "source": [
    "import numpy as np\n",
    "import cv2\n",
    "import time"
   ]
  },
  {
   "attachments": {},
   "cell_type": "markdown",
   "metadata": {},
   "source": [
    "### Read the image"
   ]
  },
  {
   "cell_type": "code",
   "execution_count": 2,
   "metadata": {},
   "outputs": [],
   "source": [
    "image = cv2.imread(\"ubuntu.png\")"
   ]
  },
  {
   "attachments": {},
   "cell_type": "markdown",
   "metadata": {},
   "source": [
    "####  Check the data is correctly loade"
   ]
  },
  {
   "cell_type": "code",
   "execution_count": 3,
   "metadata": {},
   "outputs": [],
   "source": [
    "if image.data != None:\n",
    "    cv2.imshow(\"Ubuntu\", image)\n",
    "    cv2.waitKey(0)\n",
    "    cv2.destroyAllWindows()"
   ]
  },
  {
   "attachments": {},
   "cell_type": "markdown",
   "metadata": {},
   "source": [
    "#### Print some basic information"
   ]
  },
  {
   "cell_type": "code",
   "execution_count": 4,
   "metadata": {},
   "outputs": [
    {
     "name": "stdout",
     "output_type": "stream",
     "text": [
      "Image Colums:  1200 \n",
      "Image Rows:  674 \n",
      "Image Channels:  3\n"
     ]
    }
   ],
   "source": [
    "rows, cols, channels = image.shape\n",
    "print(\"Image Colums: \", cols, \"\\nImage Rows: \", rows, \"\\nImage Channels: \", channels)"
   ]
  },
  {
   "attachments": {},
   "cell_type": "markdown",
   "metadata": {},
   "source": [
    "#### Check image type"
   ]
  },
  {
   "cell_type": "code",
   "execution_count": 5,
   "metadata": {},
   "outputs": [],
   "source": [
    "def check_image_format(img):\n",
    "    if img.dtype == np.uint8:\n",
    "        if len(img.shape) == 2:\n",
    "            return \"grayscale\"\n",
    "        elif len(img.shape) == 3 and img.shape[2] == 3:\n",
    "            return \"rgb\"\n",
    "        else:\n",
    "            raise ValueError(\"Invalid image format: image is not grayscale or RGB\")\n",
    "    else:\n",
    "        raise ValueError(\"Invalid image format: image dtype must be uint8\")"
   ]
  },
  {
   "cell_type": "code",
   "execution_count": 6,
   "metadata": {},
   "outputs": [
    {
     "name": "stdout",
     "output_type": "stream",
     "text": [
      "rgb\n",
      "grayscale\n"
     ]
    }
   ],
   "source": [
    "image_format = check_image_format(image)\n",
    "print(image_format)\n",
    "image_format = check_image_format(cv2.cvtColor(image, cv2.COLOR_RGB2GRAY))\n",
    "print(image_format)"
   ]
  },
  {
   "attachments": {},
   "cell_type": "markdown",
   "metadata": {},
   "source": [
    "#### Check the pixels and time consumed for the iteration throught the image"
   ]
  },
  {
   "cell_type": "code",
   "execution_count": 7,
   "metadata": {},
   "outputs": [
    {
     "name": "stdout",
     "output_type": "stream",
     "text": [
      "Total time consumed for iteraion is 1.212125301361084 seconds\n"
     ]
    }
   ],
   "source": [
    "start = time.time()\n",
    "for row in range(rows):\n",
    "    for col in range(cols):\n",
    "        for ch in range(channels):\n",
    "            pixel_val = image[row][col][ch]\n",
    "end = time.time()\n",
    "print(f\"Total time consumed for iteraion is {end-start} seconds\")"
   ]
  },
  {
   "attachments": {},
   "cell_type": "markdown",
   "metadata": {},
   "source": [
    "#### Copying cv image [operator = will not copy the image data, but only the reference]"
   ]
  },
  {
   "cell_type": "code",
   "execution_count": 8,
   "metadata": {},
   "outputs": [],
   "source": [
    "image_another = image\n",
    "# changing image_another will also change image\n",
    "image_another[:100, :100] = 0\n",
    "cv2.imshow(\"Image\", image)\n",
    "cv2.imshow(\"Image Another\", image_another)\n",
    "cv2.waitKey(0)\n",
    "cv2.destroyAllWindows()"
   ]
  },
  {
   "attachments": {},
   "cell_type": "markdown",
   "metadata": {},
   "source": [
    "####  Use image.copy() to actually clone the data"
   ]
  },
  {
   "cell_type": "code",
   "execution_count": 9,
   "metadata": {},
   "outputs": [],
   "source": [
    "image_clone = image.copy()\n",
    "# cloning to image_clone will not change image\n",
    "image_another[:200, :200] = 0\n",
    "cv2.imshow(\"Image\", image)\n",
    "cv2.imshow(\"Image Another\", image_clone)\n",
    "cv2.waitKey(0)\n",
    "cv2.destroyAllWindows()\n"
   ]
  },
  {
   "attachments": {},
   "cell_type": "markdown",
   "metadata": {},
   "source": [
    "### We are not going to copy the OpenCV's documentation here"
   ]
  },
  {
   "attachments": {},
   "cell_type": "markdown",
   "metadata": {},
   "source": [
    "### Please take a look at it for other image operations like clipping, rotating and scaling.\n"
   ]
  }
 ],
 "metadata": {
  "kernelspec": {
   "display_name": "scan3d",
   "language": "python",
   "name": "python3"
  },
  "language_info": {
   "codemirror_mode": {
    "name": "ipython",
    "version": 3
   },
   "file_extension": ".py",
   "mimetype": "text/x-python",
   "name": "python",
   "nbconvert_exporter": "python",
   "pygments_lexer": "ipython3",
   "version": "3.9.16"
  },
  "orig_nbformat": 4
 },
 "nbformat": 4,
 "nbformat_minor": 2
}
