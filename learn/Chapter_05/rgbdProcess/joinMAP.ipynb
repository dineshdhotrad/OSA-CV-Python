{
 "cells": [
  {
   "attachments": {},
   "cell_type": "markdown",
   "metadata": {},
   "source": [
    "### Below we write a program to accomplish two things:\n",
    "#### (1) We calculate the point cloud corresponding to each pair of RGB-D images based on internal parameters;\n",
    "#### (2) According to the camera pose of each image, we put the points to a global cloud by the camera poses."
   ]
  },
  {
   "attachments": {},
   "cell_type": "markdown",
   "metadata": {},
   "source": [
    "#### Import required packages"
   ]
  },
  {
   "cell_type": "code",
   "execution_count": 1,
   "metadata": {},
   "outputs": [
    {
     "name": "stdout",
     "output_type": "stream",
     "text": [
      "Jupyter environment detected. Enabling Open3D WebVisualizer.\n",
      "[Open3D INFO] WebRTC GUI backend enabled.\n",
      "[Open3D INFO] WebRTCWindowSystem: HTTP handshake server disabled.\n"
     ]
    }
   ],
   "source": [
    "import numpy as np\n",
    "import cv2\n",
    "import open3d as o3d\n",
    "import sys\n",
    "sys.path.append('../../../')\n",
    "from src.software.utils.osaQuaternion import simpleQuaternion"
   ]
  },
  {
   "attachments": {},
   "cell_type": "markdown",
   "metadata": {},
   "source": [
    "#### Read Image data from RGB and Depth Folder"
   ]
  },
  {
   "cell_type": "code",
   "execution_count": 2,
   "metadata": {},
   "outputs": [],
   "source": [
    "rgb_images = []\n",
    "depth_images = []\n",
    "for i in range(5):\n",
    "    rgb = cv2.imread(\"color/\" + str(i+1) + \".png\")\n",
    "    depth = cv2.imread(\"depth/\" + str(i+1) + \".pgm\", -1)\n",
    "    rgb_images.append(rgb)\n",
    "    depth_images.append(depth)"
   ]
  },
  {
   "attachments": {},
   "cell_type": "markdown",
   "metadata": {},
   "source": [
    "#### Read trajectory file that consists of rotation and translation"
   ]
  },
  {
   "cell_type": "code",
   "execution_count": 3,
   "metadata": {},
   "outputs": [],
   "source": [
    "trajectory = np.loadtxt(\"pose.txt\", delimiter=\" \", dtype=float)\n",
    "translations = trajectory[:, :3]\n",
    "rotations = np.roll(trajectory[:, 3:], 1, axis=1)"
   ]
  },
  {
   "attachments": {},
   "cell_type": "markdown",
   "metadata": {},
   "source": [
    "#### Compute the point clouds using camera intrinsics\n"
   ]
  },
  {
   "cell_type": "code",
   "execution_count": 4,
   "metadata": {},
   "outputs": [],
   "source": [
    "# Intrensic and default depthScale\n",
    "cx = 325.5\n",
    "cy = 253.5\n",
    "fx = 518.0\n",
    "fy = 519.0\n",
    "depthScale = 1000.0\n",
    "rows, cols, _ = rgb_images[0].shape\n",
    "\n",
    "pointclouds = np.zeros(6)\n",
    "for i in range(5):\n",
    "    points = []\n",
    "    colors = []\n",
    "    for v in range(rows):\n",
    "        for u in range(cols):\n",
    "            if depth_images[i][v][u] == 0:\n",
    "                continue\n",
    "            z_val = depth_images[i][v][u] / depthScale\n",
    "            x_val = (u - cx) * z_val / fx\n",
    "            y_val = (v - cx) * z_val / fy\n",
    "            points.append([x_val, y_val, z_val])\n",
    "            colors.append(rgb_images[i][v][u]/255)\n",
    "    rotator = simpleQuaternion(rotations[i])\n",
    "    points = rotator.rotate(np.asarray(points))\n",
    "    points = points + translations[i]\n",
    "    colors = np.asarray(colors)\n",
    "    colors[:, [2, 0]] = colors[:, [0, 2]]\n",
    "    pointclouds = np.vstack([pointclouds, np.hstack([points, colors])])"
   ]
  },
  {
   "attachments": {},
   "cell_type": "markdown",
   "metadata": {},
   "source": [
    "#### Visualise image point cloud"
   ]
  },
  {
   "cell_type": "code",
   "execution_count": 5,
   "metadata": {},
   "outputs": [],
   "source": [
    "pcd = o3d.geometry.PointCloud()\n",
    "pcd.points = o3d.utility.Vector3dVector(pointclouds[:, :3])\n",
    "pcd.colors = o3d.utility.Vector3dVector(pointclouds[:, 3:])\n",
    "\n",
    "o3d.visualization.draw_geometries([pcd])"
   ]
  }
 ],
 "metadata": {
  "kernelspec": {
   "display_name": "scan3d",
   "language": "python",
   "name": "python3"
  },
  "language_info": {
   "codemirror_mode": {
    "name": "ipython",
    "version": 3
   },
   "file_extension": ".py",
   "mimetype": "text/x-python",
   "name": "python",
   "nbconvert_exporter": "python",
   "pygments_lexer": "ipython3",
   "version": "3.9.16"
  },
  "orig_nbformat": 4
 },
 "nbformat": 4,
 "nbformat_minor": 2
}
