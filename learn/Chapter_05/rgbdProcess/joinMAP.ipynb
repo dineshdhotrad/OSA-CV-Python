{
 "cells": [
  {
   "attachments": {},
   "cell_type": "markdown",
   "metadata": {},
   "source": [
    "### Below we write a program to accomplish two things:\n",
    "#### (1) We calculate the point cloud corresponding to each pair of RGB-D images based on internal parameters;\n",
    "#### (2) According to the camera pose of each image, we put the points to a global cloud by the camera poses."
   ]
  },
  {
   "attachments": {},
   "cell_type": "markdown",
   "metadata": {},
   "source": [
    "#### Import required packages"
   ]
  },
  {
   "cell_type": "code",
   "execution_count": 64,
   "metadata": {},
   "outputs": [],
   "source": [
    "import numpy as np\n",
    "import cv2\n",
    "import open3d as o3d\n",
    "import sys\n",
    "sys.path.append('../../../')\n",
    "from src.software.utils.osaQuaternion import simpleQuaternion"
   ]
  },
  {
   "attachments": {},
   "cell_type": "markdown",
   "metadata": {},
   "source": [
    "#### Read Image data from RGB and Depth Folder"
   ]
  },
  {
   "cell_type": "code",
   "execution_count": 13,
   "metadata": {},
   "outputs": [],
   "source": [
    "rgb_images = []\n",
    "depth_images = []\n",
    "for i in range(5):\n",
    "    rgb = cv2.imread(\"color/\" + str(i+1) + \".png\")\n",
    "    depth = cv2.imread(\"depth/\" + str(i+1) + \".pgm\", -1)\n",
    "    rgb_images.append(rgb)\n",
    "    depth_images.append(depth)"
   ]
  },
  {
   "attachments": {},
   "cell_type": "markdown",
   "metadata": {},
   "source": [
    "#### Read trajectory file that consists of rotation and translation"
   ]
  },
  {
   "cell_type": "code",
   "execution_count": 28,
   "metadata": {},
   "outputs": [],
   "source": [
    "trajectory = np.loadtxt(\"pose.txt\", delimiter=\" \", dtype=float)\n",
    "translations = trajectory[:, :3]\n",
    "rotations = np.roll(trajectory[:, 3:], 1, axis=1)"
   ]
  },
  {
   "attachments": {},
   "cell_type": "markdown",
   "metadata": {},
   "source": [
    "#### Compute the point clouds using camera intrinsics\n"
   ]
  },
  {
   "cell_type": "code",
   "execution_count": 106,
   "metadata": {},
   "outputs": [
    {
     "ename": "TypeError",
     "evalue": "list indices must be integers or slices, not tuple",
     "output_type": "error",
     "traceback": [
      "\u001b[1;31m---------------------------------------------------------------------------\u001b[0m",
      "\u001b[1;31mTypeError\u001b[0m                                 Traceback (most recent call last)",
      "Cell \u001b[1;32mIn[106], line 25\u001b[0m\n\u001b[0;32m     23\u001b[0m points \u001b[39m=\u001b[39m rotator\u001b[39m.\u001b[39mrotate(np\u001b[39m.\u001b[39masarray(points))\n\u001b[0;32m     24\u001b[0m points \u001b[39m=\u001b[39m points \u001b[39m+\u001b[39m translations[i]\n\u001b[1;32m---> 25\u001b[0m colors[:, [\u001b[39m2\u001b[39m, \u001b[39m0\u001b[39m]] \u001b[39m=\u001b[39m np\u001b[39m.\u001b[39masarray(colors[:, [\u001b[39m0\u001b[39;49m, \u001b[39m2\u001b[39;49m]])\n\u001b[0;32m     26\u001b[0m pointclouds \u001b[39m=\u001b[39m np\u001b[39m.\u001b[39mvstack([pointclouds, np\u001b[39m.\u001b[39mhstack([points, colors])])\n",
      "\u001b[1;31mTypeError\u001b[0m: list indices must be integers or slices, not tuple"
     ]
    }
   ],
   "source": [
    "# Intrensic and default depthScale\n",
    "cx = 325.5\n",
    "cy = 253.5\n",
    "fx = 518.0\n",
    "fy = 519.0\n",
    "depthScale = 1000.0\n",
    "rows, cols, _ = rgb_images[0].shape\n",
    "\n",
    "pointclouds = np.zeros(6)\n",
    "for i in range(5):\n",
    "    points = []\n",
    "    colors = []\n",
    "    for v in range(rows):\n",
    "        for u in range(cols):\n",
    "            if depth_images[i][v][u] == 0:\n",
    "                continue\n",
    "            z_val = depth_images[i][v][u] / depthScale\n",
    "            x_val = (u - cx) * z_val / fx\n",
    "            y_val = (v - cx) * z_val / fy\n",
    "            points.append([x_val, y_val, z_val])\n",
    "            colors.append(rgb_images[i][v][u]/255)\n",
    "    rotator = simpleQuaternion(rotations[i])\n",
    "    points = rotator.rotate(np.asarray(points))\n",
    "    points = points + translations[i]\n",
    "    colors = np.asarray(colors)\n",
    "    colors[:, [2, 0]] = colors[:, [0, 2]]\n",
    "    pointclouds = np.vstack([pointclouds, np.hstack([points, colors])])"
   ]
  },
  {
   "attachments": {},
   "cell_type": "markdown",
   "metadata": {},
   "source": [
    "#### Visualise image point cloud"
   ]
  },
  {
   "cell_type": "code",
   "execution_count": 102,
   "metadata": {},
   "outputs": [],
   "source": [
    "pcd = o3d.geometry.PointCloud()\n",
    "pcd.points = o3d.utility.Vector3dVector(pointclouds[:, :3])\n",
    "pcd.colors = o3d.utility.Vector3dVector(pointclouds[:, 3:])\n",
    "\n",
    "o3d.visualization.draw_geometries([pcd])"
   ]
  },
  {
   "cell_type": "code",
   "execution_count": null,
   "metadata": {},
   "outputs": [],
   "source": []
  }
 ],
 "metadata": {
  "kernelspec": {
   "display_name": "scan3d",
   "language": "python",
   "name": "python3"
  },
  "language_info": {
   "codemirror_mode": {
    "name": "ipython",
    "version": 3
   },
   "file_extension": ".py",
   "mimetype": "text/x-python",
   "name": "python",
   "nbconvert_exporter": "python",
   "pygments_lexer": "ipython3",
   "version": "3.9.16"
  },
  "orig_nbformat": 4
 },
 "nbformat": 4,
 "nbformat_minor": 2
}
