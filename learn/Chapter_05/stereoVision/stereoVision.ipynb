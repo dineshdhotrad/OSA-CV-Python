{
 "cells": [
  {
   "attachments": {},
   "cell_type": "markdown",
   "metadata": {},
   "source": [
    "### The following code demonstrates the calculation of disparity map and point cloud"
   ]
  },
  {
   "attachments": {},
   "cell_type": "markdown",
   "metadata": {},
   "source": [
    "#### Import rquired packages"
   ]
  },
  {
   "cell_type": "code",
   "execution_count": 1,
   "metadata": {},
   "outputs": [
    {
     "name": "stdout",
     "output_type": "stream",
     "text": [
      "Jupyter environment detected. Enabling Open3D WebVisualizer.\n",
      "[Open3D INFO] WebRTC GUI backend enabled.\n",
      "[Open3D INFO] WebRTCWindowSystem: HTTP handshake server disabled.\n"
     ]
    }
   ],
   "source": [
    "import numpy as np\n",
    "import cv2\n",
    "import open3d as o3d"
   ]
  },
  {
   "attachments": {},
   "cell_type": "markdown",
   "metadata": {},
   "source": [
    "#### Read left and right images"
   ]
  },
  {
   "cell_type": "code",
   "execution_count": 2,
   "metadata": {},
   "outputs": [],
   "source": [
    "img_left = cv2.imread(\"left.png\", 0)\n",
    "img_right = cv2.imread(\"right.png\", 0)"
   ]
  },
  {
   "attachments": {},
   "cell_type": "markdown",
   "metadata": {},
   "source": [
    "#### Assign camera intrinsics and baseline parameters"
   ]
  },
  {
   "cell_type": "code",
   "execution_count": 3,
   "metadata": {},
   "outputs": [],
   "source": [
    "fx, fy, cx, cy = 718.856, 718.856, 607.1928, 185.2157\n",
    "b = 0.573"
   ]
  },
  {
   "attachments": {},
   "cell_type": "markdown",
   "metadata": {},
   "source": [
    "#### SGBM is senstive to parameters, please tune according to requirements.\n"
   ]
  },
  {
   "cell_type": "code",
   "execution_count": 4,
   "metadata": {},
   "outputs": [],
   "source": [
    "window_size = 9\n",
    "min_disp = 0\n",
    "num_disp = 96\n",
    "stereo = cv2.StereoSGBM_create(\n",
    "    minDisparity=min_disp,\n",
    "    numDisparities=num_disp,\n",
    "    blockSize=window_size,\n",
    "    P1=8 * 3 * window_size ** 2,\n",
    "    P2=32 * 3 * window_size ** 2,\n",
    "    disp12MaxDiff=1,\n",
    "    uniquenessRatio=63,\n",
    "    speckleWindowSize=10,\n",
    "    speckleRange=100,\n",
    "    preFilterCap=32,\n",
    "    mode=cv2.STEREO_SGBM_MODE_SGBM_3WAY\n",
    ")"
   ]
  },
  {
   "cell_type": "code",
   "execution_count": 5,
   "metadata": {},
   "outputs": [],
   "source": [
    "disparity_sgbm = stereo.compute(img_left, img_right).astype(np.float32) / 16.0\n",
    "disparity_sgbm = (disparity_sgbm - min_disp) / num_disp"
   ]
  },
  {
   "attachments": {},
   "cell_type": "markdown",
   "metadata": {},
   "source": [
    "#### Compute the point cloud"
   ]
  },
  {
   "cell_type": "code",
   "execution_count": 6,
   "metadata": {},
   "outputs": [],
   "source": [
    "points = []\n",
    "colors = []\n",
    "for v in range(img_left.shape[0]):\n",
    "    for u in range(img_left.shape[1]):\n",
    "        if disparity_sgbm[v, u] <= 0.0 or disparity_sgbm[v, u] >= 96.0:\n",
    "            continue\n",
    "\n",
    "        point = np.zeros(3)\n",
    "        colors.append(img_left[v, u] / 255.0)\n",
    "        \n",
    "        x = (u - cx) / fx\n",
    "        y = (v - cy) / fy\n",
    "        depth = fx * b / (disparity_sgbm[v, u])\n",
    "        point[0] = x * depth\n",
    "        point[1] = y * depth\n",
    "        point[2] = depth\n",
    "\n",
    "        points.append(point)"
   ]
  },
  {
   "attachments": {},
   "cell_type": "markdown",
   "metadata": {},
   "source": [
    "#### Display Right image and Left image with Disparity"
   ]
  },
  {
   "cell_type": "code",
   "execution_count": 7,
   "metadata": {},
   "outputs": [],
   "source": [
    "cv2.imshow(\"Left\", img_left)\n",
    "cv2.imshow(\"Right\", img_right)\n",
    "cv2.imshow(\"Disparity\", disparity_sgbm)\n",
    "cv2.waitKey(0)\n",
    "cv2.destroyAllWindows()"
   ]
  },
  {
   "attachments": {},
   "cell_type": "markdown",
   "metadata": {},
   "source": [
    "#### Assign and visualise point cloud using open3d"
   ]
  },
  {
   "cell_type": "code",
   "execution_count": 8,
   "metadata": {},
   "outputs": [],
   "source": [
    "pcd = o3d.geometry.PointCloud()\n",
    "pcd.points = o3d.utility.Vector3dVector(points)\n",
    "pcd.colors = o3d.utility.Vector3dVector(np.stack([colors, colors, colors], axis=1))\n",
    "\n",
    "o3d.visualization.draw_geometries([pcd])"
   ]
  }
 ],
 "metadata": {
  "kernelspec": {
   "display_name": "scan3d",
   "language": "python",
   "name": "python3"
  },
  "language_info": {
   "codemirror_mode": {
    "name": "ipython",
    "version": 3
   },
   "file_extension": ".py",
   "mimetype": "text/x-python",
   "name": "python",
   "nbconvert_exporter": "python",
   "pygments_lexer": "ipython3",
   "version": "3.9.16"
  },
  "orig_nbformat": 4
 },
 "nbformat": 4,
 "nbformat_minor": 2
}
