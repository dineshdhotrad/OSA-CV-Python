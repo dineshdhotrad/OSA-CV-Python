{
 "cells": [
  {
   "cell_type": "markdown",
   "metadata": {},
   "source": [
    "## This program demonstrates how to use the geometry module"
   ]
  },
  {
   "cell_type": "code",
   "execution_count": 1,
   "metadata": {},
   "outputs": [
    {
     "ename": "SyntaxError",
     "evalue": "invalid syntax (935369556.py, line 3)",
     "output_type": "error",
     "traceback": [
      "\u001b[1;36m  Input \u001b[1;32mIn [1]\u001b[1;36m\u001b[0m\n\u001b[1;33m    from ../../src.software.utils.visionUtils import getIsometry\u001b[0m\n\u001b[1;37m           ^\u001b[0m\n\u001b[1;31mSyntaxError\u001b[0m\u001b[1;31m:\u001b[0m invalid syntax\n"
     ]
    }
   ],
   "source": [
    "import numpy as np\n",
    "from scipy.spatial.transform import Rotation as R\n",
    "#from src.software.utils.visionUtils import getIsometry"
   ]
  },
  {
   "cell_type": "code",
   "execution_count": 2,
   "metadata": {},
   "outputs": [],
   "source": [
    "def getIsometry(rotation, translation):\n",
    "    return np.vstack([np.hstack([rotation,translation.reshape(3,-1)]), [0, 0, 0, 1]])"
   ]
  },
  {
   "cell_type": "markdown",
   "metadata": {},
   "source": [
    "### The Geometry module provides a variety of rotation and translation representations using Numpy"
   ]
  },
  {
   "cell_type": "code",
   "execution_count": 3,
   "metadata": {},
   "outputs": [
    {
     "name": "stdout",
     "output_type": "stream",
     "text": [
      "Identity Rotation matrix = \n",
      " [[1. 0. 0.]\n",
      " [0. 1. 0.]\n",
      " [0. 0. 1.]]\n"
     ]
    }
   ],
   "source": [
    "rotation_matrix = R.identity().as_matrix()\n",
    "print(\"Identity Rotation matrix = \\n\", rotation_matrix)"
   ]
  },
  {
   "cell_type": "markdown",
   "metadata": {},
   "source": [
    "### Read numpy Euler Matrix [3, 3] and Reperesent as Quatranion [x, y, z, w]"
   ]
  },
  {
   "cell_type": "code",
   "execution_count": 4,
   "metadata": {},
   "outputs": [
    {
     "data": {
      "text/plain": [
       "array([0., 0., 0., 1.])"
      ]
     },
     "execution_count": 4,
     "metadata": {},
     "output_type": "execute_result"
    }
   ],
   "source": [
    "r = R.from_matrix(rotation_matrix)\n",
    "r.as_quat()"
   ]
  },
  {
   "cell_type": "markdown",
   "metadata": {},
   "source": [
    "### Rotate 45 degrees along the Z axis"
   ]
  },
  {
   "cell_type": "code",
   "execution_count": 5,
   "metadata": {},
   "outputs": [
    {
     "data": {
      "text/plain": [
       "array([[ 0.70710678, -0.70710678,  0.        ],\n",
       "       [ 0.70710678,  0.70710678,  0.        ],\n",
       "       [ 0.        ,  0.        ,  1.        ]])"
      ]
     },
     "execution_count": 5,
     "metadata": {},
     "output_type": "execute_result"
    }
   ],
   "source": [
    "rot = R.from_euler('z', 45, degrees=True)\n",
    "rot_mat = rot.as_matrix()\n",
    "rot_mat"
   ]
  },
  {
   "cell_type": "markdown",
   "metadata": {},
   "source": [
    "### Coordinate transformation with AngleAxis"
   ]
  },
  {
   "cell_type": "code",
   "execution_count": 6,
   "metadata": {},
   "outputs": [
    {
     "name": "stdout",
     "output_type": "stream",
     "text": [
      "(1,0,0) after rotation (by angle axis) =  [0.70710678 0.70710678 0.        ]\n"
     ]
    }
   ],
   "source": [
    "v_rotated = rot_mat @ np.asarray([1, 0, 0])\n",
    "print(\"(1,0,0) after rotation (by angle axis) = \", v_rotated)"
   ]
  },
  {
   "cell_type": "markdown",
   "metadata": {},
   "source": [
    "### Coordinate transformation with Rotation Matrix"
   ]
  },
  {
   "cell_type": "code",
   "execution_count": 7,
   "metadata": {},
   "outputs": [
    {
     "name": "stdout",
     "output_type": "stream",
     "text": [
      "(1,0,0) after rotation (by matrix) =  [0.70710678 0.70710678 0.        ]\n"
     ]
    }
   ],
   "source": [
    "v_rotated = rot_mat @ np.asarray([1, 0, 0])\n",
    "print(\"(1,0,0) after rotation (by matrix) = \", v_rotated)"
   ]
  },
  {
   "cell_type": "markdown",
   "metadata": {},
   "source": [
    "### Convertion of the rotation matrix directly into Euler angles"
   ]
  },
  {
   "cell_type": "code",
   "execution_count": 8,
   "metadata": {},
   "outputs": [
    {
     "name": "stdout",
     "output_type": "stream",
     "text": [
      "yaw pitch roll =  [0.78539816 0.         0.        ]\n"
     ]
    }
   ],
   "source": [
    "euler_angles = rot.as_euler('xyz')\n",
    "print(\"yaw pitch roll = \", np.flip(euler_angles))"
   ]
  },
  {
   "cell_type": "markdown",
   "metadata": {},
   "source": [
    "### Euclidean transformation matrix using Numpy"
   ]
  },
  {
   "cell_type": "code",
   "execution_count": 9,
   "metadata": {},
   "outputs": [
    {
     "name": "stdout",
     "output_type": "stream",
     "text": [
      "Transform matrix = \n",
      " [[ 0.70710678 -0.70710678  0.          1.        ]\n",
      " [ 0.70710678  0.70710678  0.          3.        ]\n",
      " [ 0.          0.          1.          4.        ]\n",
      " [ 0.          0.          0.          1.        ]]\n"
     ]
    }
   ],
   "source": [
    "translation = np.asarray([1, 3, 4])\n",
    "T = getIsometry(rot_mat, translation)\n",
    "print(\"Transform matrix = \\n\", T)"
   ]
  },
  {
   "cell_type": "markdown",
   "metadata": {},
   "source": [
    "###  Use the transformation matrix for coordinate transformation"
   ]
  },
  {
   "cell_type": "code",
   "execution_count": 10,
   "metadata": {},
   "outputs": [
    {
     "name": "stdout",
     "output_type": "stream",
     "text": [
      "v tranformed =  [1.70710678 3.70710678 4.        ]\n"
     ]
    }
   ],
   "source": [
    "v_transformed = T @ np.asarray([1, 0, 0, 1])\n",
    "print(\"v tranformed = \", v_transformed[:3])"
   ]
  }
 ],
 "metadata": {
  "kernelspec": {
   "display_name": "Python 3.8.13 ('scan3d')",
   "language": "python",
   "name": "python3"
  },
  "language_info": {
   "codemirror_mode": {
    "name": "ipython",
    "version": 3
   },
   "file_extension": ".py",
   "mimetype": "text/x-python",
   "name": "python",
   "nbconvert_exporter": "python",
   "pygments_lexer": "ipython3",
   "version": "3.8.13"
  },
  "orig_nbformat": 4,
  "vscode": {
   "interpreter": {
    "hash": "d15edc6a9871b507c94557ab1bbc38e924a8cb82937d4c55016bd6153da82982"
   }
  }
 },
 "nbformat": 4,
 "nbformat_minor": 2
}
